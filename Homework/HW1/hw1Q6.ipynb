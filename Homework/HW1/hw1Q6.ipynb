{
 "cells": [
  {
   "cell_type": "code",
   "execution_count": 2,
   "metadata": {},
   "outputs": [],
   "source": [
    "import numpy as np\n",
    "from numpy import linalg \n",
    "from matplotlib import cm\n",
    "from matplotlib import pyplot as plt\n",
    "from scipy.optimize import minimize\n",
    "\n",
    "y = np.linspace(-2,2,401) # spatial coordinate\n",
    "Ny = np.size(y)\n",
    "\n",
    "amp1 = 1\n",
    "y01 = 0.5\n",
    "sigmay1 = 0.6\n",
    "\n",
    "amp2 = 1.2\n",
    "y02 = -0.5\n",
    "sigmay2 = 0.3\n",
    "\n",
    "dt = 0.1\n",
    "Nt = 101\n",
    "tend = dt*(Nt-1)\n",
    "t = np.linspace(0,tend,Nt) # time\n",
    "\n",
    "omega1 = 1.3\n",
    "omega2 = 4.1\n",
    "\n",
    "v1 = amp1*np.exp(-((y-y01)**2)/(2*sigmay1**2))\n",
    "v2 = amp2*np.exp(-((y-y02)**2)/(2*sigmay2**2))\n",
    "\n",
    "X = np.zeros([Ny,Nt],dtype=complex)\n",
    "for tt in range(Nt):\n",
    "    X[:,tt] = v1*np.exp(1j*omega1*t[tt])+v2*np.exp(1j*omega2*t[tt]) "
   ]
  },
  {
   "cell_type": "code",
   "execution_count": null,
   "metadata": {},
   "outputs": [],
   "source": []
  }
 ],
 "metadata": {
  "kernelspec": {
   "display_name": "Python 3",
   "language": "python",
   "name": "python3"
  },
  "language_info": {
   "codemirror_mode": {
    "name": "ipython",
    "version": 3
   },
   "file_extension": ".py",
   "mimetype": "text/x-python",
   "name": "python",
   "nbconvert_exporter": "python",
   "pygments_lexer": "ipython3",
   "version": "3.7.3"
  }
 },
 "nbformat": 4,
 "nbformat_minor": 2
}
